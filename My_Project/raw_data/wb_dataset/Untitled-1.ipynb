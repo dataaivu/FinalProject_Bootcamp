{
 "metadata": {
  "language_info": {
   "codemirror_mode": {
    "name": "ipython",
    "version": 3
   },
   "file_extension": ".py",
   "mimetype": "text/x-python",
   "name": "python",
   "nbconvert_exporter": "python",
   "pygments_lexer": "ipython3",
   "version": "3.8.3-final"
  },
  "orig_nbformat": 2,
  "kernelspec": {
   "name": "python3",
   "display_name": "Python 3",
   "language": "python"
  }
 },
 "nbformat": 4,
 "nbformat_minor": 2,
 "cells": [
  {
   "cell_type": "code",
   "execution_count": 7,
   "metadata": {},
   "outputs": [],
   "source": [
    "# Doing all major librabry imports\n",
    "import matplotlib.pyplot as plt \n",
    "import scikitplot as skplt\n",
    "import numpy as np \n",
    "import pandas as pd \n",
    "import seaborn as sns \n",
    "import scipy.stats as stats\n",
    "import re\n",
    "\n",
    "from sklearn import datasets, metrics\n",
    "from sklearn.linear_model import LinearRegression, LogisticRegression, LogisticRegressionCV\n",
    "from sklearn.model_selection import train_test_split, cross_val_score, cross_val_predict, KFold\n",
    "from sklearn.metrics import r2_score, mean_squared_error\n",
    "from sklearn.preprocessing import PolynomialFeatures, StandardScaler\n",
    "from sklearn.linear_model import Ridge, Lasso, ElasticNet, LinearRegression, RidgeCV, LassoCV, ElasticNetCV\n",
    "from sklearn.metrics import classification_report, confusion_matrix\n",
    "from sklearn.metrics import roc_curve, auc, precision_recall_curve, average_precision_score\n",
    "from matplotlib.colors import ListedColormap\n",
    "from sklearn.pipeline import Pipeline, make_pipeline\n",
    "\n",
    "plt.style.use('fivethirtyeight')\n",
    "\n",
    "%matplotlib inline\n",
    "%config InlineBackend.figure_format = 'retina'\n",
    "\n",
    "import scikitplot as skplt\n",
    "from matplotlib.colors import ListedColormap\n",
    "from sklearn.metrics import classification_report, confusion_matrix\n",
    "\n",
    "pd.set_option('display.max_rows', 500)\n",
    "pd.set_option('display.max_columns', 500)\n",
    "pd.options.display.float_format = '{:.2f}'.format\n",
    "\n",
    "import wbdata as wb "
   ]
  },
  {
   "cell_type": "code",
   "execution_count": 8,
   "metadata": {},
   "outputs": [
    {
     "output_type": "execute_result",
     "data": {
      "text/plain": [
       "         GNI   POV\n",
       "date              \n",
       "2020     nan   nan\n",
       "2019 5101.82   nan\n",
       "2018 4848.69   nan\n",
       "2017 4530.66 10.90\n",
       "2016 4455.44 11.50"
      ],
      "text/html": "<div>\n<style scoped>\n    .dataframe tbody tr th:only-of-type {\n        vertical-align: middle;\n    }\n\n    .dataframe tbody tr th {\n        vertical-align: top;\n    }\n\n    .dataframe thead th {\n        text-align: right;\n    }\n</style>\n<table border=\"1\" class=\"dataframe\">\n  <thead>\n    <tr style=\"text-align: right;\">\n      <th></th>\n      <th>GNI</th>\n      <th>POV</th>\n    </tr>\n    <tr>\n      <th>date</th>\n      <th></th>\n      <th></th>\n    </tr>\n  </thead>\n  <tbody>\n    <tr>\n      <th>2020</th>\n      <td>nan</td>\n      <td>nan</td>\n    </tr>\n    <tr>\n      <th>2019</th>\n      <td>5101.82</td>\n      <td>nan</td>\n    </tr>\n    <tr>\n      <th>2018</th>\n      <td>4848.69</td>\n      <td>nan</td>\n    </tr>\n    <tr>\n      <th>2017</th>\n      <td>4530.66</td>\n      <td>10.90</td>\n    </tr>\n    <tr>\n      <th>2016</th>\n      <td>4455.44</td>\n      <td>11.50</td>\n    </tr>\n  </tbody>\n</table>\n</div>"
     },
     "metadata": {},
     "execution_count": 8
    }
   ],
   "source": [
    "df = wb.get_dataframe({\"NY.GNP.PCAP.CD\": \"GNI\", \"SI.POV.DDAY\": \"POV\"}, country=\"LMY\", keep_levels=False)\n",
    "df.head()"
   ]
  },
  {
   "cell_type": "code",
   "execution_count": 9,
   "metadata": {},
   "outputs": [],
   "source": [
    "df.reset_index(inplace=True) \n",
    "df.dropna(inplace=True)"
   ]
  },
  {
   "cell_type": "code",
   "execution_count": 10,
   "metadata": {},
   "outputs": [
    {
     "output_type": "execute_result",
     "data": {
      "text/plain": [
       "   date     GNI   POV\n",
       "3  2017 4530.66 10.90\n",
       "4  2016 4455.44 11.50\n",
       "5  2015 4546.59 12.00\n",
       "6  2014 4663.07 12.70\n",
       "7  2013 4509.46 13.50"
      ],
      "text/html": "<div>\n<style scoped>\n    .dataframe tbody tr th:only-of-type {\n        vertical-align: middle;\n    }\n\n    .dataframe tbody tr th {\n        vertical-align: top;\n    }\n\n    .dataframe thead th {\n        text-align: right;\n    }\n</style>\n<table border=\"1\" class=\"dataframe\">\n  <thead>\n    <tr style=\"text-align: right;\">\n      <th></th>\n      <th>date</th>\n      <th>GNI</th>\n      <th>POV</th>\n    </tr>\n  </thead>\n  <tbody>\n    <tr>\n      <th>3</th>\n      <td>2017</td>\n      <td>4530.66</td>\n      <td>10.90</td>\n    </tr>\n    <tr>\n      <th>4</th>\n      <td>2016</td>\n      <td>4455.44</td>\n      <td>11.50</td>\n    </tr>\n    <tr>\n      <th>5</th>\n      <td>2015</td>\n      <td>4546.59</td>\n      <td>12.00</td>\n    </tr>\n    <tr>\n      <th>6</th>\n      <td>2014</td>\n      <td>4663.07</td>\n      <td>12.70</td>\n    </tr>\n    <tr>\n      <th>7</th>\n      <td>2013</td>\n      <td>4509.46</td>\n      <td>13.50</td>\n    </tr>\n  </tbody>\n</table>\n</div>"
     },
     "metadata": {},
     "execution_count": 10
    }
   ],
   "source": [
    "df.head()"
   ]
  },
  {
   "cell_type": "code",
   "execution_count": 11,
   "metadata": {},
   "outputs": [
    {
     "output_type": "execute_result",
     "data": {
      "text/plain": [
       "      GNI   POV\n",
       "GNI  1.00 -0.92\n",
       "POV -0.92  1.00"
      ],
      "text/html": "<div>\n<style scoped>\n    .dataframe tbody tr th:only-of-type {\n        vertical-align: middle;\n    }\n\n    .dataframe tbody tr th {\n        vertical-align: top;\n    }\n\n    .dataframe thead th {\n        text-align: right;\n    }\n</style>\n<table border=\"1\" class=\"dataframe\">\n  <thead>\n    <tr style=\"text-align: right;\">\n      <th></th>\n      <th>GNI</th>\n      <th>POV</th>\n    </tr>\n  </thead>\n  <tbody>\n    <tr>\n      <th>GNI</th>\n      <td>1.00</td>\n      <td>-0.92</td>\n    </tr>\n    <tr>\n      <th>POV</th>\n      <td>-0.92</td>\n      <td>1.00</td>\n    </tr>\n  </tbody>\n</table>\n</div>"
     },
     "metadata": {},
     "execution_count": 11
    }
   ],
   "source": [
    "df.corr()"
   ]
  },
  {
   "cell_type": "code",
   "execution_count": 12,
   "metadata": {},
   "outputs": [
    {
     "output_type": "execute_result",
     "data": {
      "text/plain": [
       "id    name\n",
       "----  ------------------------------\n",
       "AFG   Afghanistan\n",
       "AGO   Angola\n",
       "ALB   Albania\n",
       "ARG   Argentina\n",
       "ARM   Armenia\n",
       "ASM   American Samoa\n",
       "AZE   Azerbaijan\n",
       "BDI   Burundi\n",
       "BEN   Benin\n",
       "BFA   Burkina Faso\n",
       "BGD   Bangladesh\n",
       "BGR   Bulgaria\n",
       "BIH   Bosnia and Herzegovina\n",
       "BLR   Belarus\n",
       "BLZ   Belize\n",
       "BOL   Bolivia\n",
       "BRA   Brazil\n",
       "BTN   Bhutan\n",
       "BWA   Botswana\n",
       "CAF   Central African Republic\n",
       "CHN   China\n",
       "CIV   Cote d'Ivoire\n",
       "CMR   Cameroon\n",
       "COD   Congo, Dem. Rep.\n",
       "COG   Congo, Rep.\n",
       "COL   Colombia\n",
       "COM   Comoros\n",
       "CPV   Cabo Verde\n",
       "CRI   Costa Rica\n",
       "CUB   Cuba\n",
       "DJI   Djibouti\n",
       "DMA   Dominica\n",
       "DOM   Dominican Republic\n",
       "DZA   Algeria\n",
       "ECU   Ecuador\n",
       "EGY   Egypt, Arab Rep.\n",
       "ERI   Eritrea\n",
       "ETH   Ethiopia\n",
       "FJI   Fiji\n",
       "FSM   Micronesia, Fed. Sts.\n",
       "GAB   Gabon\n",
       "GEO   Georgia\n",
       "GHA   Ghana\n",
       "GIN   Guinea\n",
       "GMB   Gambia, The\n",
       "GNB   Guinea-Bissau\n",
       "GNQ   Equatorial Guinea\n",
       "GRD   Grenada\n",
       "GTM   Guatemala\n",
       "GUY   Guyana\n",
       "HND   Honduras\n",
       "HTI   Haiti\n",
       "IDN   Indonesia\n",
       "IND   India\n",
       "IRN   Iran, Islamic Rep.\n",
       "IRQ   Iraq\n",
       "JAM   Jamaica\n",
       "JOR   Jordan\n",
       "KAZ   Kazakhstan\n",
       "KEN   Kenya\n",
       "KGZ   Kyrgyz Republic\n",
       "KHM   Cambodia\n",
       "KIR   Kiribati\n",
       "LAO   Lao PDR\n",
       "LBN   Lebanon\n",
       "LBR   Liberia\n",
       "LBY   Libya\n",
       "LCA   St. Lucia\n",
       "LKA   Sri Lanka\n",
       "LSO   Lesotho\n",
       "MAR   Morocco\n",
       "MDA   Moldova\n",
       "MDG   Madagascar\n",
       "MDV   Maldives\n",
       "MEX   Mexico\n",
       "MHL   Marshall Islands\n",
       "MKD   North Macedonia\n",
       "MLI   Mali\n",
       "MMR   Myanmar\n",
       "MNE   Montenegro\n",
       "MNG   Mongolia\n",
       "MOZ   Mozambique\n",
       "MRT   Mauritania\n",
       "MWI   Malawi\n",
       "MYS   Malaysia\n",
       "NAM   Namibia\n",
       "NER   Niger\n",
       "NGA   Nigeria\n",
       "NIC   Nicaragua\n",
       "NPL   Nepal\n",
       "PAK   Pakistan\n",
       "PER   Peru\n",
       "PHL   Philippines\n",
       "PNG   Papua New Guinea\n",
       "PRK   Korea, Dem. People’s Rep.\n",
       "PRY   Paraguay\n",
       "PSE   West Bank and Gaza\n",
       "RUS   Russian Federation\n",
       "RWA   Rwanda\n",
       "SDN   Sudan\n",
       "SEN   Senegal\n",
       "SLB   Solomon Islands\n",
       "SLE   Sierra Leone\n",
       "SLV   El Salvador\n",
       "SOM   Somalia\n",
       "SRB   Serbia\n",
       "SSD   South Sudan\n",
       "STP   Sao Tome and Principe\n",
       "SUR   Suriname\n",
       "SWZ   Eswatini\n",
       "SYR   Syrian Arab Republic\n",
       "TCD   Chad\n",
       "TGO   Togo\n",
       "THA   Thailand\n",
       "TJK   Tajikistan\n",
       "TKM   Turkmenistan\n",
       "TLS   Timor-Leste\n",
       "TON   Tonga\n",
       "TUN   Tunisia\n",
       "TUR   Turkey\n",
       "TUV   Tuvalu\n",
       "TZA   Tanzania\n",
       "UGA   Uganda\n",
       "UKR   Ukraine\n",
       "UZB   Uzbekistan\n",
       "VCT   St. Vincent and the Grenadines\n",
       "VEN   Venezuela, RB\n",
       "VNM   Vietnam\n",
       "VUT   Vanuatu\n",
       "WSM   Samoa\n",
       "XKX   Kosovo\n",
       "YEM   Yemen, Rep.\n",
       "ZAF   South Africa\n",
       "ZMB   Zambia\n",
       "ZWE   Zimbabwe"
      ]
     },
     "metadata": {},
     "execution_count": 12
    }
   ],
   "source": [
    "wb.get_country(incomelevel='LMY')"
   ]
  },
  {
   "cell_type": "code",
   "execution_count": 13,
   "metadata": {},
   "outputs": [],
   "source": [
    "country = [\n",
    "    'AFG',\n",
    "'AGO',\n",
    "'ALB',\n",
    "'ARG',\n",
    "'ARM',\n",
    "'ASM',\n",
    "'AZE',\n",
    "'BDI',\n",
    "'BEN',\n",
    "'BFA',\n",
    "'BGD',\n",
    "'BGR',\n",
    "'BIH',\n",
    "'BLR',\n",
    "'BLZ',\n",
    "'BOL',\n",
    "'BRA',\n",
    "'BTN',\n",
    "'BWA',\n",
    "'CAF',\n",
    "'CHN',\n",
    "'CIV',\n",
    "'CMR',\n",
    "'COD',\n",
    "'COG',\n",
    "'COL',\n",
    "'COM',\n",
    "'CPV',\n",
    "'CRI',\n",
    "'CUB',\n",
    "'DJI',\n",
    "'DMA',\n",
    "'DOM',\n",
    "'DZA',\n",
    "'ECU',\n",
    "'EGY',\n",
    "'ERI',\n",
    "'ETH',\n",
    "'FJI',\n",
    "'FSM',\n",
    "'GAB',\n",
    "'GEO',\n",
    "'GHA',\n",
    "'GIN',\n",
    "'GMB',\n",
    "'GNB',\n",
    "'GNQ',\n",
    "'GRD',\n",
    "'GTM',\n",
    "'GUY',\n",
    "'HND',\n",
    "'HTI',\n",
    "'IDN',\n",
    "'IND',\n",
    "'IRN',\n",
    "'IRQ',\n",
    "'JAM',\n",
    "'JOR',\n",
    "'KAZ',\n",
    "'KEN',\n",
    "'KGZ',\n",
    "'KHM',\n",
    "'KIR',\n",
    "'LAO',\n",
    "'LBN',\n",
    "'LBR',\n",
    "'LBY',\n",
    "'LCA',\n",
    "'LKA',\n",
    "'LSO',\n",
    "'MAR',\n",
    "'MDA',\n",
    "'MDG',\n",
    "'MDV',\n",
    "'MEX',\n",
    "'MHL',\n",
    "'MKD',\n",
    "'MLI',\n",
    "'MMR',\n",
    "'MNE',\n",
    "'MNG',\n",
    "'MOZ',\n",
    "'MRT',\n",
    "'MUS',\n",
    "'MWI',\n",
    "'MYS',\n",
    "'NAM',\n",
    "'NER',\n",
    "'NGA',\n",
    "'NIC',\n",
    "'NPL',\n",
    "'NRU',\n",
    "'PAK',\n",
    "'PER',\n",
    "'PHL',\n",
    "'PNG',\n",
    "'PRK',\n",
    "'PRY',\n",
    "'PSE',\n",
    "'ROU',\n",
    "'RUS',\n",
    "'RWA',\n",
    "'SDN',\n",
    "'SEN',\n",
    "'SLB',\n",
    "'SLE',\n",
    "'SLV',\n",
    "'SOM',\n",
    "'SRB',\n",
    "'SSD',\n",
    "'STP',\n",
    "'SUR',\n",
    "'SWZ',\n",
    "'SYR',\n",
    "'TCD',\n",
    "'TGO',\n",
    "'THA',\n",
    "'TJK',\n",
    "'TKM',\n",
    "'TLS',\n",
    "'TON',\n",
    "'TUN',\n",
    "'TUR',\n",
    "'TUV',\n",
    "'TZA',\n",
    "'UGA',\n",
    "'UKR',\n",
    "'UZB',\n",
    "'VCT',\n",
    "'VEN',\n",
    "'VNM',\n",
    "'VUT',\n",
    "'WSM',\n",
    "'XKX',\n",
    "'YEM',\n",
    "'ZAF',\n",
    "'ZMB',\n",
    "'ZWE'\n",
    "]"
   ]
  },
  {
   "cell_type": "code",
   "execution_count": 14,
   "metadata": {},
   "outputs": [
    {
     "output_type": "execute_result",
     "data": {
      "text/plain": [
       "                    GNI  POV\n",
       "country     date            \n",
       "Afghanistan 2020    nan  nan\n",
       "            2019 540.00  nan\n",
       "            2018 550.00  nan\n",
       "            2017 560.00  nan\n",
       "            2016 570.00  nan"
      ],
      "text/html": "<div>\n<style scoped>\n    .dataframe tbody tr th:only-of-type {\n        vertical-align: middle;\n    }\n\n    .dataframe tbody tr th {\n        vertical-align: top;\n    }\n\n    .dataframe thead th {\n        text-align: right;\n    }\n</style>\n<table border=\"1\" class=\"dataframe\">\n  <thead>\n    <tr style=\"text-align: right;\">\n      <th></th>\n      <th></th>\n      <th>GNI</th>\n      <th>POV</th>\n    </tr>\n    <tr>\n      <th>country</th>\n      <th>date</th>\n      <th></th>\n      <th></th>\n    </tr>\n  </thead>\n  <tbody>\n    <tr>\n      <th rowspan=\"5\" valign=\"top\">Afghanistan</th>\n      <th>2020</th>\n      <td>nan</td>\n      <td>nan</td>\n    </tr>\n    <tr>\n      <th>2019</th>\n      <td>540.00</td>\n      <td>nan</td>\n    </tr>\n    <tr>\n      <th>2018</th>\n      <td>550.00</td>\n      <td>nan</td>\n    </tr>\n    <tr>\n      <th>2017</th>\n      <td>560.00</td>\n      <td>nan</td>\n    </tr>\n    <tr>\n      <th>2016</th>\n      <td>570.00</td>\n      <td>nan</td>\n    </tr>\n  </tbody>\n</table>\n</div>"
     },
     "metadata": {},
     "execution_count": 14
    }
   ],
   "source": [
    "df = wb.get_dataframe({\"NY.GNP.PCAP.CD\": \"GNI\", \"SI.POV.DDAY\": \"POV\"}, country=country, keep_levels=False)\n",
    "df.head()"
   ]
  },
  {
   "cell_type": "code",
   "execution_count": 15,
   "metadata": {},
   "outputs": [],
   "source": [
    "df.reset_index(inplace=True)"
   ]
  },
  {
   "cell_type": "code",
   "execution_count": 16,
   "metadata": {},
   "outputs": [],
   "source": [
    "df.dropna(inplace=True)"
   ]
  },
  {
   "cell_type": "code",
   "execution_count": 18,
   "metadata": {},
   "outputs": [
    {
     "output_type": "execute_result",
     "data": {
      "text/plain": [
       "     country  date     GNI   POV\n",
       "3242   India  2011 1360.00 22.50\n",
       "3244   India  2009 1120.00 32.80\n",
       "3249   India  2004  610.00 39.90\n",
       "3260   India  1993  320.00 47.60\n",
       "3266   India  1987  350.00 50.60\n",
       "3270   India  1983  280.00 56.40\n",
       "3276   India  1977  190.00 63.10"
      ],
      "text/html": "<div>\n<style scoped>\n    .dataframe tbody tr th:only-of-type {\n        vertical-align: middle;\n    }\n\n    .dataframe tbody tr th {\n        vertical-align: top;\n    }\n\n    .dataframe thead th {\n        text-align: right;\n    }\n</style>\n<table border=\"1\" class=\"dataframe\">\n  <thead>\n    <tr style=\"text-align: right;\">\n      <th></th>\n      <th>country</th>\n      <th>date</th>\n      <th>GNI</th>\n      <th>POV</th>\n    </tr>\n  </thead>\n  <tbody>\n    <tr>\n      <th>3242</th>\n      <td>India</td>\n      <td>2011</td>\n      <td>1360.00</td>\n      <td>22.50</td>\n    </tr>\n    <tr>\n      <th>3244</th>\n      <td>India</td>\n      <td>2009</td>\n      <td>1120.00</td>\n      <td>32.80</td>\n    </tr>\n    <tr>\n      <th>3249</th>\n      <td>India</td>\n      <td>2004</td>\n      <td>610.00</td>\n      <td>39.90</td>\n    </tr>\n    <tr>\n      <th>3260</th>\n      <td>India</td>\n      <td>1993</td>\n      <td>320.00</td>\n      <td>47.60</td>\n    </tr>\n    <tr>\n      <th>3266</th>\n      <td>India</td>\n      <td>1987</td>\n      <td>350.00</td>\n      <td>50.60</td>\n    </tr>\n    <tr>\n      <th>3270</th>\n      <td>India</td>\n      <td>1983</td>\n      <td>280.00</td>\n      <td>56.40</td>\n    </tr>\n    <tr>\n      <th>3276</th>\n      <td>India</td>\n      <td>1977</td>\n      <td>190.00</td>\n      <td>63.10</td>\n    </tr>\n  </tbody>\n</table>\n</div>"
     },
     "metadata": {},
     "execution_count": 18
    }
   ],
   "source": [
    "df[df.country=='India']"
   ]
  },
  {
   "cell_type": "code",
   "execution_count": 20,
   "metadata": {},
   "outputs": [
    {
     "output_type": "execute_result",
     "data": {
      "text/plain": [
       "      GNI   POV\n",
       "GNI  1.00 -0.95\n",
       "POV -0.95  1.00"
      ],
      "text/html": "<div>\n<style scoped>\n    .dataframe tbody tr th:only-of-type {\n        vertical-align: middle;\n    }\n\n    .dataframe tbody tr th {\n        vertical-align: top;\n    }\n\n    .dataframe thead th {\n        text-align: right;\n    }\n</style>\n<table border=\"1\" class=\"dataframe\">\n  <thead>\n    <tr style=\"text-align: right;\">\n      <th></th>\n      <th>GNI</th>\n      <th>POV</th>\n    </tr>\n  </thead>\n  <tbody>\n    <tr>\n      <th>GNI</th>\n      <td>1.00</td>\n      <td>-0.95</td>\n    </tr>\n    <tr>\n      <th>POV</th>\n      <td>-0.95</td>\n      <td>1.00</td>\n    </tr>\n  </tbody>\n</table>\n</div>"
     },
     "metadata": {},
     "execution_count": 20
    }
   ],
   "source": [
    "df[df.country=='India'].corr()"
   ]
  },
  {
   "cell_type": "code",
   "execution_count": 24,
   "metadata": {},
   "outputs": [
    {
     "output_type": "execute_result",
     "data": {
      "text/plain": [
       "      GNI   POV\n",
       "GNI  1.00 -0.82\n",
       "POV -0.82  1.00"
      ],
      "text/html": "<div>\n<style scoped>\n    .dataframe tbody tr th:only-of-type {\n        vertical-align: middle;\n    }\n\n    .dataframe tbody tr th {\n        vertical-align: top;\n    }\n\n    .dataframe thead th {\n        text-align: right;\n    }\n</style>\n<table border=\"1\" class=\"dataframe\">\n  <thead>\n    <tr style=\"text-align: right;\">\n      <th></th>\n      <th>GNI</th>\n      <th>POV</th>\n    </tr>\n  </thead>\n  <tbody>\n    <tr>\n      <th>GNI</th>\n      <td>1.00</td>\n      <td>-0.82</td>\n    </tr>\n    <tr>\n      <th>POV</th>\n      <td>-0.82</td>\n      <td>1.00</td>\n    </tr>\n  </tbody>\n</table>\n</div>"
     },
     "metadata": {},
     "execution_count": 24
    }
   ],
   "source": [
    "df[df.country=='Brazil'].corr()"
   ]
  },
  {
   "cell_type": "code",
   "execution_count": 30,
   "metadata": {},
   "outputs": [
    {
     "output_type": "execute_result",
     "data": {
      "text/plain": [
       "      GNI   POV\n",
       "GNI  1.00 -0.53\n",
       "POV -0.53  1.00"
      ],
      "text/html": "<div>\n<style scoped>\n    .dataframe tbody tr th:only-of-type {\n        vertical-align: middle;\n    }\n\n    .dataframe tbody tr th {\n        vertical-align: top;\n    }\n\n    .dataframe thead th {\n        text-align: right;\n    }\n</style>\n<table border=\"1\" class=\"dataframe\">\n  <thead>\n    <tr style=\"text-align: right;\">\n      <th></th>\n      <th>GNI</th>\n      <th>POV</th>\n    </tr>\n  </thead>\n  <tbody>\n    <tr>\n      <th>GNI</th>\n      <td>1.00</td>\n      <td>-0.53</td>\n    </tr>\n    <tr>\n      <th>POV</th>\n      <td>-0.53</td>\n      <td>1.00</td>\n    </tr>\n  </tbody>\n</table>\n</div>"
     },
     "metadata": {},
     "execution_count": 30
    }
   ],
   "source": [
    "df.corr()"
   ]
  },
  {
   "cell_type": "code",
   "execution_count": null,
   "metadata": {},
   "outputs": [],
   "source": [
    "df = wb.get_dataframe(\"NY.GNP.PCAP.CD\": 'GNIPC')"
   ]
  },
  {
   "cell_type": "code",
   "execution_count": null,
   "metadata": {},
   "outputs": [],
   "source": []
  },
  {
   "cell_type": "code",
   "execution_count": null,
   "metadata": {},
   "outputs": [],
   "source": []
  },
  {
   "cell_type": "code",
   "execution_count": null,
   "metadata": {},
   "outputs": [],
   "source": []
  },
  {
   "cell_type": "code",
   "execution_count": null,
   "metadata": {},
   "outputs": [],
   "source": []
  },
  {
   "cell_type": "code",
   "execution_count": null,
   "metadata": {},
   "outputs": [],
   "source": []
  },
  {
   "cell_type": "code",
   "execution_count": null,
   "metadata": {},
   "outputs": [],
   "source": []
  },
  {
   "cell_type": "code",
   "execution_count": null,
   "metadata": {},
   "outputs": [],
   "source": []
  },
  {
   "cell_type": "code",
   "execution_count": null,
   "metadata": {},
   "outputs": [],
   "source": []
  },
  {
   "cell_type": "code",
   "execution_count": null,
   "metadata": {},
   "outputs": [],
   "source": []
  },
  {
   "cell_type": "code",
   "execution_count": null,
   "metadata": {},
   "outputs": [],
   "source": []
  }
 ]
}